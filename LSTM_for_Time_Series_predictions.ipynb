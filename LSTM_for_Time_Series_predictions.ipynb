{
  "cells": [
    {
      "cell_type": "code",
      "execution_count": 1,
      "id": "d1b8caf1",
      "metadata": {
        "id": "d1b8caf1"
      },
      "outputs": [],
      "source": [
        "import pandas as pd\n",
        "import numpy as np\n",
        "import matplotlib.pyplot as plt\n",
        "%matplotlib inline\n",
        "import warnings\n",
        "warnings.filterwarnings('ignore')\n",
        "import tensorflow as tf\n",
        "from tensorflow.keras.preprocessing.sequence import TimeseriesGenerator\n",
        "from tensorflow.keras.models import Sequential\n",
        "from tensorflow.keras.layers import Dense\n",
        "from tensorflow.keras.layers import LSTM"
      ]
    },
    {
      "cell_type": "code",
      "execution_count": 3,
      "id": "920c057c",
      "metadata": {
        "colab": {
          "base_uri": "https://localhost:8080/",
          "height": 455
        },
        "id": "920c057c",
        "outputId": "4d06ee25-0366-44d1-b590-5dd66c7e08c5"
      },
      "outputs": [
        {
          "output_type": "execute_result",
          "data": {
            "text/plain": [
              "         Thousands of Passengers\n",
              "Month                           \n",
              "1949-01                      112\n",
              "1949-02                      118\n",
              "1949-03                      132\n",
              "1949-04                      129\n",
              "1949-05                      121\n",
              "...                          ...\n",
              "1960-08                      606\n",
              "1960-09                      508\n",
              "1960-10                      461\n",
              "1960-11                      390\n",
              "1960-12                      432\n",
              "\n",
              "[144 rows x 1 columns]"
            ],
            "text/html": [
              "\n",
              "  <div id=\"df-fbdb423a-9a24-4ea0-814e-1775b0269609\">\n",
              "    <div class=\"colab-df-container\">\n",
              "      <div>\n",
              "<style scoped>\n",
              "    .dataframe tbody tr th:only-of-type {\n",
              "        vertical-align: middle;\n",
              "    }\n",
              "\n",
              "    .dataframe tbody tr th {\n",
              "        vertical-align: top;\n",
              "    }\n",
              "\n",
              "    .dataframe thead th {\n",
              "        text-align: right;\n",
              "    }\n",
              "</style>\n",
              "<table border=\"1\" class=\"dataframe\">\n",
              "  <thead>\n",
              "    <tr style=\"text-align: right;\">\n",
              "      <th></th>\n",
              "      <th>Thousands of Passengers</th>\n",
              "    </tr>\n",
              "    <tr>\n",
              "      <th>Month</th>\n",
              "      <th></th>\n",
              "    </tr>\n",
              "  </thead>\n",
              "  <tbody>\n",
              "    <tr>\n",
              "      <th>1949-01</th>\n",
              "      <td>112</td>\n",
              "    </tr>\n",
              "    <tr>\n",
              "      <th>1949-02</th>\n",
              "      <td>118</td>\n",
              "    </tr>\n",
              "    <tr>\n",
              "      <th>1949-03</th>\n",
              "      <td>132</td>\n",
              "    </tr>\n",
              "    <tr>\n",
              "      <th>1949-04</th>\n",
              "      <td>129</td>\n",
              "    </tr>\n",
              "    <tr>\n",
              "      <th>1949-05</th>\n",
              "      <td>121</td>\n",
              "    </tr>\n",
              "    <tr>\n",
              "      <th>...</th>\n",
              "      <td>...</td>\n",
              "    </tr>\n",
              "    <tr>\n",
              "      <th>1960-08</th>\n",
              "      <td>606</td>\n",
              "    </tr>\n",
              "    <tr>\n",
              "      <th>1960-09</th>\n",
              "      <td>508</td>\n",
              "    </tr>\n",
              "    <tr>\n",
              "      <th>1960-10</th>\n",
              "      <td>461</td>\n",
              "    </tr>\n",
              "    <tr>\n",
              "      <th>1960-11</th>\n",
              "      <td>390</td>\n",
              "    </tr>\n",
              "    <tr>\n",
              "      <th>1960-12</th>\n",
              "      <td>432</td>\n",
              "    </tr>\n",
              "  </tbody>\n",
              "</table>\n",
              "<p>144 rows × 1 columns</p>\n",
              "</div>\n",
              "      <button class=\"colab-df-convert\" onclick=\"convertToInteractive('df-fbdb423a-9a24-4ea0-814e-1775b0269609')\"\n",
              "              title=\"Convert this dataframe to an interactive table.\"\n",
              "              style=\"display:none;\">\n",
              "        \n",
              "  <svg xmlns=\"http://www.w3.org/2000/svg\" height=\"24px\"viewBox=\"0 0 24 24\"\n",
              "       width=\"24px\">\n",
              "    <path d=\"M0 0h24v24H0V0z\" fill=\"none\"/>\n",
              "    <path d=\"M18.56 5.44l.94 2.06.94-2.06 2.06-.94-2.06-.94-.94-2.06-.94 2.06-2.06.94zm-11 1L8.5 8.5l.94-2.06 2.06-.94-2.06-.94L8.5 2.5l-.94 2.06-2.06.94zm10 10l.94 2.06.94-2.06 2.06-.94-2.06-.94-.94-2.06-.94 2.06-2.06.94z\"/><path d=\"M17.41 7.96l-1.37-1.37c-.4-.4-.92-.59-1.43-.59-.52 0-1.04.2-1.43.59L10.3 9.45l-7.72 7.72c-.78.78-.78 2.05 0 2.83L4 21.41c.39.39.9.59 1.41.59.51 0 1.02-.2 1.41-.59l7.78-7.78 2.81-2.81c.8-.78.8-2.07 0-2.86zM5.41 20L4 18.59l7.72-7.72 1.47 1.35L5.41 20z\"/>\n",
              "  </svg>\n",
              "      </button>\n",
              "      \n",
              "  <style>\n",
              "    .colab-df-container {\n",
              "      display:flex;\n",
              "      flex-wrap:wrap;\n",
              "      gap: 12px;\n",
              "    }\n",
              "\n",
              "    .colab-df-convert {\n",
              "      background-color: #E8F0FE;\n",
              "      border: none;\n",
              "      border-radius: 50%;\n",
              "      cursor: pointer;\n",
              "      display: none;\n",
              "      fill: #1967D2;\n",
              "      height: 32px;\n",
              "      padding: 0 0 0 0;\n",
              "      width: 32px;\n",
              "    }\n",
              "\n",
              "    .colab-df-convert:hover {\n",
              "      background-color: #E2EBFA;\n",
              "      box-shadow: 0px 1px 2px rgba(60, 64, 67, 0.3), 0px 1px 3px 1px rgba(60, 64, 67, 0.15);\n",
              "      fill: #174EA6;\n",
              "    }\n",
              "\n",
              "    [theme=dark] .colab-df-convert {\n",
              "      background-color: #3B4455;\n",
              "      fill: #D2E3FC;\n",
              "    }\n",
              "\n",
              "    [theme=dark] .colab-df-convert:hover {\n",
              "      background-color: #434B5C;\n",
              "      box-shadow: 0px 1px 3px 1px rgba(0, 0, 0, 0.15);\n",
              "      filter: drop-shadow(0px 1px 2px rgba(0, 0, 0, 0.3));\n",
              "      fill: #FFFFFF;\n",
              "    }\n",
              "  </style>\n",
              "\n",
              "      <script>\n",
              "        const buttonEl =\n",
              "          document.querySelector('#df-fbdb423a-9a24-4ea0-814e-1775b0269609 button.colab-df-convert');\n",
              "        buttonEl.style.display =\n",
              "          google.colab.kernel.accessAllowed ? 'block' : 'none';\n",
              "\n",
              "        async function convertToInteractive(key) {\n",
              "          const element = document.querySelector('#df-fbdb423a-9a24-4ea0-814e-1775b0269609');\n",
              "          const dataTable =\n",
              "            await google.colab.kernel.invokeFunction('convertToInteractive',\n",
              "                                                     [key], {});\n",
              "          if (!dataTable) return;\n",
              "\n",
              "          const docLinkHtml = 'Like what you see? Visit the ' +\n",
              "            '<a target=\"_blank\" href=https://colab.research.google.com/notebooks/data_table.ipynb>data table notebook</a>'\n",
              "            + ' to learn more about interactive tables.';\n",
              "          element.innerHTML = '';\n",
              "          dataTable['output_type'] = 'display_data';\n",
              "          await google.colab.output.renderOutput(dataTable, element);\n",
              "          const docLink = document.createElement('div');\n",
              "          docLink.innerHTML = docLinkHtml;\n",
              "          element.appendChild(docLink);\n",
              "        }\n",
              "      </script>\n",
              "    </div>\n",
              "  </div>\n",
              "  "
            ]
          },
          "metadata": {},
          "execution_count": 3
        }
      ],
      "source": [
        "df=pd.read_csv(r'/content/drive/MyDrive/datasets_learned/airline_passengers.csv',index_col='Month')\n",
        "\n",
        "df"
      ]
    },
    {
      "cell_type": "code",
      "source": [
        "from google.colab import drive\n",
        "drive.mount('/content/drive')"
      ],
      "metadata": {
        "colab": {
          "base_uri": "https://localhost:8080/"
        },
        "id": "Dasvo4RUVV1W",
        "outputId": "5003aff6-b37b-4f39-c3f7-1aa7cf11210b"
      },
      "id": "Dasvo4RUVV1W",
      "execution_count": 2,
      "outputs": [
        {
          "output_type": "stream",
          "name": "stdout",
          "text": [
            "Mounted at /content/drive\n"
          ]
        }
      ]
    },
    {
      "cell_type": "code",
      "execution_count": 4,
      "id": "de3daf28",
      "metadata": {
        "id": "de3daf28"
      },
      "outputs": [],
      "source": [
        "from sklearn.preprocessing import MinMaxScaler\n",
        "train=df[:132]\n",
        "test=df[132:]\n",
        "scaler=MinMaxScaler()\n",
        "scaled_train=scaler.fit_transform(train)\n",
        "scaled_test=scaler.transform(test)"
      ]
    },
    {
      "cell_type": "code",
      "execution_count": 5,
      "id": "521e9a55",
      "metadata": {
        "id": "521e9a55"
      },
      "outputs": [],
      "source": [
        "n_input=12\n",
        "n_features=1"
      ]
    },
    {
      "cell_type": "code",
      "execution_count": 6,
      "id": "46cc076e",
      "metadata": {
        "id": "46cc076e"
      },
      "outputs": [],
      "source": [
        "train_generator=TimeseriesGenerator(scaled_train,\n",
        "                                     scaled_train,\n",
        "                                      n_input,\n",
        "                                      batch_size=1)"
      ]
    },
    {
      "cell_type": "code",
      "execution_count": 7,
      "id": "9f93d7b9",
      "metadata": {
        "id": "9f93d7b9"
      },
      "outputs": [],
      "source": [
        "model=Sequential()\n",
        "model.add(LSTM(100,activation='relu',input_shape=(n_input,n_features),return_sequences=True))\n",
        "model.add(LSTM(50,activation='relu',return_sequences=True))\n",
        "model.add(LSTM(10,activation='relu'))\n",
        "model.add(Dense(1))"
      ]
    },
    {
      "cell_type": "code",
      "execution_count": 8,
      "id": "09dc0f99",
      "metadata": {
        "colab": {
          "base_uri": "https://localhost:8080/"
        },
        "id": "09dc0f99",
        "outputId": "ccc583fc-dc74-4af9-dfc6-ffb91aa917a8"
      },
      "outputs": [
        {
          "output_type": "stream",
          "name": "stdout",
          "text": [
            "Model: \"sequential\"\n",
            "_________________________________________________________________\n",
            " Layer (type)                Output Shape              Param #   \n",
            "=================================================================\n",
            " lstm (LSTM)                 (None, 12, 100)           40800     \n",
            "                                                                 \n",
            " lstm_1 (LSTM)               (None, 12, 50)            30200     \n",
            "                                                                 \n",
            " lstm_2 (LSTM)               (None, 10)                2440      \n",
            "                                                                 \n",
            " dense (Dense)               (None, 1)                 11        \n",
            "                                                                 \n",
            "=================================================================\n",
            "Total params: 73,451\n",
            "Trainable params: 73,451\n",
            "Non-trainable params: 0\n",
            "_________________________________________________________________\n"
          ]
        }
      ],
      "source": [
        "model.compile(optimizer='adam',loss='mse')\n",
        "model.summary()"
      ]
    },
    {
      "cell_type": "code",
      "execution_count": 9,
      "id": "b3181dbd",
      "metadata": {
        "colab": {
          "base_uri": "https://localhost:8080/"
        },
        "id": "b3181dbd",
        "outputId": "78aad2d7-96da-45ad-97af-0370404fd339"
      },
      "outputs": [
        {
          "output_type": "stream",
          "name": "stdout",
          "text": [
            "Epoch 1/20\n",
            "120/120 [==============================] - 5s 14ms/step - loss: 0.0517\n",
            "Epoch 2/20\n",
            "120/120 [==============================] - 2s 15ms/step - loss: 0.0171\n",
            "Epoch 3/20\n",
            "120/120 [==============================] - 2s 15ms/step - loss: 0.0251\n",
            "Epoch 4/20\n",
            "120/120 [==============================] - 2s 14ms/step - loss: 0.0118\n",
            "Epoch 5/20\n",
            "120/120 [==============================] - 2s 15ms/step - loss: 0.0103\n",
            "Epoch 6/20\n",
            "120/120 [==============================] - 2s 16ms/step - loss: 0.0106\n",
            "Epoch 7/20\n",
            "120/120 [==============================] - 2s 15ms/step - loss: 0.0091\n",
            "Epoch 8/20\n",
            "120/120 [==============================] - 2s 15ms/step - loss: 0.0099\n",
            "Epoch 9/20\n",
            "120/120 [==============================] - 2s 15ms/step - loss: 0.0081\n",
            "Epoch 10/20\n",
            "120/120 [==============================] - 2s 15ms/step - loss: 0.0087\n",
            "Epoch 11/20\n",
            "120/120 [==============================] - 2s 19ms/step - loss: 0.0068\n",
            "Epoch 12/20\n",
            "120/120 [==============================] - 2s 14ms/step - loss: 0.0065\n",
            "Epoch 13/20\n",
            "120/120 [==============================] - 2s 14ms/step - loss: 0.0049\n",
            "Epoch 14/20\n",
            "120/120 [==============================] - 2s 15ms/step - loss: 0.0050\n",
            "Epoch 15/20\n",
            "120/120 [==============================] - 2s 15ms/step - loss: 0.0049\n",
            "Epoch 16/20\n",
            "120/120 [==============================] - 2s 15ms/step - loss: 0.0129\n",
            "Epoch 17/20\n",
            "120/120 [==============================] - 2s 14ms/step - loss: 0.0094\n",
            "Epoch 18/20\n",
            "120/120 [==============================] - 2s 16ms/step - loss: 0.0037\n",
            "Epoch 19/20\n",
            "120/120 [==============================] - 2s 16ms/step - loss: 0.0034\n",
            "Epoch 20/20\n",
            "120/120 [==============================] - 2s 14ms/step - loss: 0.0033\n"
          ]
        },
        {
          "output_type": "execute_result",
          "data": {
            "text/plain": [
              "<keras.callbacks.History at 0x7f7fdb679610>"
            ]
          },
          "metadata": {},
          "execution_count": 9
        }
      ],
      "source": [
        "model.fit(train_generator,epochs=20)"
      ]
    },
    {
      "cell_type": "code",
      "execution_count": 10,
      "id": "a023e3be",
      "metadata": {
        "colab": {
          "base_uri": "https://localhost:8080/"
        },
        "id": "a023e3be",
        "outputId": "687c16a7-66c1-46f0-fe8e-25b69349d963"
      },
      "outputs": [
        {
          "output_type": "stream",
          "name": "stdout",
          "text": [
            "1/1 [==============================] - 1s 646ms/step\n",
            "1/1 [==============================] - 0s 36ms/step\n",
            "1/1 [==============================] - 0s 29ms/step\n",
            "1/1 [==============================] - 0s 27ms/step\n",
            "1/1 [==============================] - 0s 39ms/step\n",
            "1/1 [==============================] - 0s 26ms/step\n",
            "1/1 [==============================] - 0s 37ms/step\n",
            "1/1 [==============================] - 0s 28ms/step\n",
            "1/1 [==============================] - 0s 34ms/step\n",
            "1/1 [==============================] - 0s 32ms/step\n",
            "1/1 [==============================] - 0s 28ms/step\n",
            "1/1 [==============================] - 0s 29ms/step\n"
          ]
        }
      ],
      "source": [
        "test_predictions = []\n",
        "#Select last n_input values from the train data\n",
        "first_eval_batch = scaled_train[-n_input:]\n",
        "#reshape the data into LSTM required (#batch,#timesteps,#features)\n",
        "current_batch = first_eval_batch.reshape((1, n_input, n_features))\n",
        "for i in range(len(test)):\n",
        "# get prediction, grab the exact number using the [0]\n",
        "  pred = model.predict(current_batch)[0]\n",
        "# Add this prediction to the list\n",
        "  test_predictions.append(pred)\n",
        "# The most critical part, update the (#batch,#timesteps,#features\n",
        "# using np.append(\n",
        "# current_batch[:        ,1:   ,:] ---------> read this as\n",
        "# current_batch[no_change,1:end,no_change]\n",
        "# (Do note the second part has the timesteps)\n",
        "# [[pred]] need the double brackets as current_batch is a 3D array\n",
        "# axis=1, remember we need to add to the second part i.e. 1st axis\n",
        "  current_batch = np.append(current_batch[:,1:,:],[[pred]],axis=1)"
      ]
    },
    {
      "cell_type": "code",
      "execution_count": 11,
      "id": "50c10668",
      "metadata": {
        "colab": {
          "base_uri": "https://localhost:8080/"
        },
        "id": "50c10668",
        "outputId": "6095619d-806c-418e-a3c4-483ecfadd0d7"
      },
      "outputs": [
        {
          "output_type": "execute_result",
          "data": {
            "text/plain": [
              "[array([0.60209006], dtype=float32),\n",
              " array([0.62135327], dtype=float32),\n",
              " array([0.70709425], dtype=float32),\n",
              " array([0.7169876], dtype=float32),\n",
              " array([0.8037685], dtype=float32),\n",
              " array([0.948608], dtype=float32),\n",
              " array([1.047512], dtype=float32),\n",
              " array([0.9879548], dtype=float32),\n",
              " array([0.78924555], dtype=float32),\n",
              " array([0.67232347], dtype=float32),\n",
              " array([0.643111], dtype=float32),\n",
              " array([0.6894745], dtype=float32)]"
            ]
          },
          "metadata": {},
          "execution_count": 11
        }
      ],
      "source": [
        "test_predictions"
      ]
    },
    {
      "cell_type": "code",
      "execution_count": 12,
      "id": "937a547f",
      "metadata": {
        "colab": {
          "base_uri": "https://localhost:8080/"
        },
        "id": "937a547f",
        "outputId": "e342e332-b438-4381-e89e-e83cb1eafabc"
      },
      "outputs": [
        {
          "output_type": "execute_result",
          "data": {
            "text/plain": [
              "array([[377.95097762],\n",
              "       [386.71573722],\n",
              "       [425.72788471],\n",
              "       [430.22936249],\n",
              "       [469.71467459],\n",
              "       [535.61663145],\n",
              "       [580.61798477],\n",
              "       [553.51943189],\n",
              "       [463.10672337],\n",
              "       [409.90717673],\n",
              "       [396.61550069],\n",
              "       [417.710908  ]])"
            ]
          },
          "metadata": {},
          "execution_count": 12
        }
      ],
      "source": [
        "actual_predictions = scaler.inverse_transform(test_predictions)\n",
        "actual_predictions"
      ]
    },
    {
      "cell_type": "code",
      "execution_count": 13,
      "id": "ed090ce3",
      "metadata": {
        "colab": {
          "base_uri": "https://localhost:8080/",
          "height": 497
        },
        "id": "ed090ce3",
        "outputId": "e2b5492e-4692-4126-c2b9-46d384752498"
      },
      "outputs": [
        {
          "output_type": "display_data",
          "data": {
            "text/plain": [
              "<Figure size 864x576 with 1 Axes>"
            ],
            "image/png": "[encoded data removed]"
          },
          "metadata": {
            "needs_background": "light"
          }
        }
      ],
      "source": [
        "test['Predictions'] = actual_predictions\n",
        "test.plot(figsize=(12,8));"
      ]
    },
    {
      "cell_type": "code",
      "execution_count": null,
      "id": "da6c71eb",
      "metadata": {
        "id": "da6c71eb"
      },
      "outputs": [],
      "source": []
    }
  ],
  "metadata": {
    "kernelspec": {
      "display_name": "Python 3 (ipykernel)",
      "language": "python",
      "name": "python3"
    },
    "language_info": {
      "codemirror_mode": {
        "name": "ipython",
        "version": 3
      },
      "file_extension": ".py",
      "mimetype": "text/x-python",
      "name": "python",
      "nbconvert_exporter": "python",
      "pygments_lexer": "ipython3",
      "version": "3.8.8"
    },
    "colab": {
      "provenance": []
    }
  },
  "nbformat": 4,
  "nbformat_minor": 5
}